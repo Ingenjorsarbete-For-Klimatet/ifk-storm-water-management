{
 "cells": [
  {
   "cell_type": "markdown",
   "metadata": {},
   "source": [
    "# Import data\n",
    "Import data downloaded from lantmäteriet (https://geotorget.lantmateriet.se/geodataprodukter/markhojdmodell-nedladdning-api)\n",
    "\n",
    "Data can be downloaded via api or via stac browser https://radiantearth.github.io/stac-browser/#/external/api.lantmateriet.se/stac-hojd/v1/\n"
   ]
  },
  {
   "cell_type": "code",
   "execution_count": 11,
   "metadata": {},
   "outputs": [],
   "source": [
    "\n",
    "import matplotlib.pyplot as plt\n",
    "\n",
    "#from utils import get_tif_as_np_array, get_tif_from_np_array, info\n",
    "from whitebox_workflows import WbEnvironment, show\n",
    "\n",
    "from storm_water_management import utils\n",
    "\n",
    "filename_path = \"/home/chris/repos/storm_temp/data/1m\"\n",
    "filename = \"63950_3150_25.tif\"\n"
   ]
  },
  {
   "cell_type": "code",
   "execution_count": null,
   "metadata": {},
   "outputs": [],
   "source": [
    "from pyproj import Transformer\n",
    "\n",
    "wbe = WbEnvironment()\n",
    "wbe.verbose = True\n",
    "wbe.working_directory = filename_path\n",
    "dem = wbe.read_raster(filename)\n",
    "out_configs = dem.configs\n",
    "\n",
    "print(f\"North: {dem.configs.north}\")\n",
    "print(f\"South: {dem.configs.south}\")\n",
    "print(f\"East: {dem.configs.east}\")\n",
    "print(f\"West: {dem.configs.west}\")\n",
    "print(f\"EPSG code: {dem.configs.epsg_code}\")\n",
    "utils.info(dem)\n",
    "\n",
    "\n",
    "\n",
    "    # verkar vara EPSG:5845 i.e.,  Horizontal CRS: EPSG:3006 Vertical CRS: EPSG:5613\n",
    "    # a little bit unclear if 3006 or 5845\n",
    "transformer = Transformer.from_crs(\"EPSG:5845\", \"EPSG:4326\", always_xy=True)\n",
    "lower_lon, lower_lat  = transformer.transform(dem.configs.west, dem.configs.south)\n",
    "upper_lon, upper_lat  = transformer.transform(dem.configs.east, dem.configs.north)\n",
    "\n",
    "#transformer = Transformer.from_crs(\"EPSG:3007\", \"EPSG:4326\", always_xy=True)\n",
    "#lower_lon, lower_lat  = transformer.transform(317459.14, 6395003.08)\n",
    "#upper_lon, upper_lat  = transformer.transform(317500.0, 6395103.42)\n",
    "\n",
    "\n",
    "print(\"-------------------------------\")\n",
    "print(f\"North: {upper_lat}\")\n",
    "print(f\"South: {lower_lat}\")\n",
    "print(f\"East: {upper_lon}\")\n",
    "print(f\"West: {lower_lon}\")\n",
    "print(f\"EPSG code: {dem.configs.epsg_code}\")\n",
    "\n",
    "#mladens: bounds: [11.897039, 57.660217, 11.940792, 57.681619]\n",
    "\n",
    "print(f\"bounds: [{lower_lon}, {lower_lat}, {upper_lon}, {upper_lat}]\")"
   ]
  },
  {
   "cell_type": "code",
   "execution_count": null,
   "metadata": {},
   "outputs": [],
   "source": [
    "\"\"\"Main function.\"\"\"\n",
    "wbe = WbEnvironment()\n",
    "wbe.verbose = True\n",
    "wbe.working_directory = filename_path\n",
    "dem = wbe.read_raster(filename)\n",
    "\n",
    "raster_as_array = utils.get_tif_as_np_array(filename_path, filename)\n",
    "dem_from_array = utils.get_tif_from_np_array(dem, raster_as_array)\n",
    "utils.info(dem_from_array)\n",
    "\n",
    "\n"
   ]
  },
  {
   "cell_type": "code",
   "execution_count": null,
   "metadata": {},
   "outputs": [],
   "source": [
    "# Smooth DEM. Parameters need to be set to proper values.\n",
    "# dem_smoothed = wbe.feature_preserving_smoothing(dem_from_array, filter_size=11, normal_diff_threshold=10.0, iterations=3)\n",
    "dem_smoothed = dem_from_array\n",
    "# Fill depressions\n",
    "dem_no_deps = wbe.fill_depressions_planchon_and_darboux(\n",
    "    dem_smoothed, flat_increment=0.001\n",
    ")\n",
    "# dem_no_deps = wbe.fill_depressions(dem_smoothed, flat_increment=0.001)\n",
    "# dem_no_deps = wbe.fill_depressions_wang_and_liu(dem_smoothed, flat_increment=0.001)\n",
    "depression_depth = wbe.raster_calculator(\n",
    "    \"('dem_no_deps'-'dem')\", [dem_no_deps, dem_from_array]\n",
    ")\n",
    "\n",
    "# wbe.write_raster(depression_depth, filename + 'depression_depth.tif')\n",
    "\n",
    "# Plot depression filling\n",
    "fig, ax = plt.subplots()\n",
    "ax = show(\n",
    "    depression_depth,\n",
    "    ax=ax,\n",
    "    title=\"Depression Filling\",\n",
    "    figsize=(10, 7),\n",
    "    colorbar_kwargs={\"label\": \"Elevation (m)\", \"location\": \"right\", \"shrink\": 0.5},\n",
    "    zorder=1,\n",
    "    vmin=0,\n",
    "    vmax=1,\n",
    ")\n",
    "ax.legend()\n",
    "plt.show()"
   ]
  },
  {
   "cell_type": "code",
   "execution_count": null,
   "metadata": {},
   "outputs": [],
   "source": [
    "# Flow accumulation analysis\n",
    "channel_threshold = 50000.0\n",
    "flow_accum = wbe.qin_flow_accumulation(dem_no_deps, out_type='cells', convergence_threshold=channel_threshold, log_transform=True)\n",
    "# wbe.write_raster(flow_accum, filename + 'flow_accum.tif'))\n"
   ]
  },
  {
   "cell_type": "code",
   "execution_count": null,
   "metadata": {},
   "outputs": [],
   "source": [
    "fig, ax = plt.subplots()\n",
    "ax = show(\n",
    "    flow_accum,\n",
    "    ax=ax,\n",
    "    title=\"Flow\",\n",
    "    figsize=(10, 7),\n",
    "    colorbar_kwargs={\"label\": \"Flow\", \"location\": \"right\", \"shrink\": 0.5},\n",
    "    zorder=1,\n",
    ")\n",
    "ax.legend()\n",
    "plt.show()"
   ]
  },
  {
   "cell_type": "markdown",
   "metadata": {},
   "source": [
    "#write to files"
   ]
  },
  {
   "cell_type": "code",
   "execution_count": 17,
   "metadata": {},
   "outputs": [],
   "source": [
    "wbe.write_raster(depression_depth, 'hogsbo_depression_depth.tif')"
   ]
  },
  {
   "cell_type": "code",
   "execution_count": 18,
   "metadata": {},
   "outputs": [],
   "source": [
    "dem = wbe.read_raster('hogsbo_depression_depth.tif')\n",
    "\n",
    "out_configs = dem.configs\n",
    "dem_truncated = wbe.new_raster(out_configs)\n",
    "\n",
    "for row in range(dem.configs.rows):\n",
    "    for col in range(dem.configs.columns):\n",
    "        dem_truncated[row, col] = min(1., dem[row, col])\n",
    "\n",
    "wbe.write_raster(dem_truncated, 'hogsbo_depression_depth_mod.tif')\n",
    "\n"
   ]
  },
  {
   "cell_type": "code",
   "execution_count": null,
   "metadata": {},
   "outputs": [],
   "source": [
    "import matplotlib.pyplot as plt\n",
    "import rasterio\n",
    "\n",
    "# Öppna GeoTIFF\n",
    "with rasterio.open(\"/home/chris/repos/storm_temp/data/1m/hogsbo_depression_depth_mod.tif\") as src:\n",
    "    data = src.read(1)  # läs första bandet\n",
    "    profile = src.profile  # metadata (t.ex. CRS, upplösning)\n",
    "\n",
    "# Plotta\n",
    "plt.imshow(data, cmap=\"viridis\")\n",
    "plt.colorbar(label=\"Pixelvärde\")\n",
    "plt.title(\"GeoTIFF - band 1\")\n",
    "plt.show()"
   ]
  },
  {
   "cell_type": "code",
   "execution_count": null,
   "metadata": {},
   "outputs": [],
   "source": [
    "#Write to png\n",
    "import matplotlib.pyplot as plt\n",
    "import numpy as np\n",
    "import rasterio\n",
    "from PIL import Image\n",
    "\n",
    "# Läs in GeoTIFF\n",
    "with rasterio.open(\"/home/chris/repos/storm_temp/data/1m/hogsbo_depression_depth_mod.tif\") as src:\n",
    "    data = src.read(1)\n",
    "\n",
    "# Gör en mask där värden = 0 ska vara transparenta\n",
    "mask = data < 0.1\n",
    "\n",
    "# Normalisera data (0–1) för colormap\n",
    "normed = (data - data.min()) / (data.max() - data.min())\n",
    "normed[mask] = np.nan  # sätt 0-värden till NaN för att bli transparent\n",
    "\n",
    "# Välj colormap från matplotlib\n",
    "cmap = plt.get_cmap(\"viridis\")  # t.ex. \"viridis\", \"terrain\", \"plasma\"\n",
    "\n",
    "# Applicera colormap → RGBA (0–1 floats)\n",
    "rgba = cmap(normed)\n",
    "\n",
    "# Gör om till 8-bitars (0–255)\n",
    "rgba = (rgba * 255).astype(np.uint8)\n",
    "\n",
    "# Sätt alpha=0 där masken är True\n",
    "rgba[..., 3] = np.where(mask, 0, 255)\n",
    "\n",
    "# Spara som PNG\n",
    "img = Image.fromarray(rgba, mode=\"RGBA\")\n",
    "img.save(\"output_colormap.png\")"
   ]
  }
 ],
 "metadata": {
  "kernelspec": {
   "display_name": ".venv",
   "language": "python",
   "name": "python3"
  },
  "language_info": {
   "codemirror_mode": {
    "name": "ipython",
    "version": 3
   },
   "file_extension": ".py",
   "mimetype": "text/x-python",
   "name": "python",
   "nbconvert_exporter": "python",
   "pygments_lexer": "ipython3",
   "version": "3.12.3"
  }
 },
 "nbformat": 4,
 "nbformat_minor": 2
}
